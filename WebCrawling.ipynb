{
 "cells": [
  {
   "cell_type": "code",
   "execution_count": null,
   "id": "93da8cdd",
   "metadata": {},
   "outputs": [],
   "source": [
    "from selenium import webdriver\n",
    "from urllib.request import urlopen\n",
    "from selenium.webdriver.common.keys import Keys\n",
    "import time\n",
    "import urllib.request\n",
    "import os"
   ]
  },
  {
   "cell_type": "markdown",
   "id": "06f7365c",
   "metadata": {},
   "source": [
    "### 1. Create a folder to save images"
   ]
  },
  {
   "cell_type": "code",
   "execution_count": null,
   "id": "3395a9d0",
   "metadata": {},
   "outputs": [],
   "source": [
    "if not os.path.isdir(\"images/\"):  #Enter folder name\n",
    "    os.makedirs(\"images/\")"
   ]
  },
  {
   "cell_type": "markdown",
   "id": "9203076c",
   "metadata": {},
   "source": [
    "### 2. Connect to Chrome WebDriver"
   ]
  },
  {
   "cell_type": "code",
   "execution_count": null,
   "id": "d8d5a2ff",
   "metadata": {},
   "outputs": [],
   "source": [
    "driver = webdriver.Chrome('C:/Users/User/chromedriver.exe')     # Enter the path to chromedriver.exe \n",
    "driver.get(\"https://www.google.co.kr/imghp?hl=ko&ogbl\")"
   ]
  },
  {
   "cell_type": "markdown",
   "id": "b19071a7",
   "metadata": {},
   "source": [
    "### 3. Enter search word"
   ]
  },
  {
   "cell_type": "code",
   "execution_count": null,
   "id": "250494f7",
   "metadata": {},
   "outputs": [],
   "source": [
    "search = \"Excavator\"       # 9 equipment : Bulldozer, Dump truck, Excavator, Forklift, Loader, MEWP, Mobile crane, Remicon, Scraper\n",
    "elem = driver.find_element_by_name(\"q\")\n",
    "elem.send_keys(search)\n",
    "elem.send_keys(Keys.RETURN)"
   ]
  },
  {
   "cell_type": "markdown",
   "id": "ad9457d3",
   "metadata": {},
   "source": [
    "### 4. Scroll down to the end"
   ]
  },
  {
   "cell_type": "code",
   "execution_count": null,
   "id": "be041ac3",
   "metadata": {},
   "outputs": [],
   "source": [
    "SCROLL_PAUSE_TIME = 1\n",
    "\n",
    "last_height = driver.execute_script(\"return document.body.scrollHeight\")\n",
    "\n",
    "while True:\n",
    "    driver.execute_script(\"window.scrollTo(0, document.body.scrollHeight);\")\n",
    "    time.sleep(SCROLL_PAUSE_TIME)\n",
    "    new_height = driver.execute_script(\"return document.body.scrollHeight\")\n",
    "\n",
    "    if new_height == last_height:\n",
    "        try:\n",
    "            driver.find_element_by_css_selector(\".mye4qd\").click()\n",
    "        except:\n",
    "            break\n",
    "    last_height = new_height"
   ]
  },
  {
   "cell_type": "markdown",
   "id": "95e3fce9",
   "metadata": {},
   "source": [
    "### 5. Find the image and save it to the file"
   ]
  },
  {
   "cell_type": "code",
   "execution_count": null,
   "id": "fd57e5a1",
   "metadata": {},
   "outputs": [],
   "source": [
    "images = driver.find_elements_by_css_selector(\".rg_i.Q4LuWd\")\n",
    "count = 1\n",
    "\n",
    "for image in images:\n",
    "    try:\n",
    "        image.click()\n",
    "        time.sleep(2)\n",
    "        imgUrl = driver.find_element_by_xpath(\"//*[@id='Sva75c']/div/div/div[3]/div[2]/c-wiz/div/div[1]/div[1]/div[2]/div/a/img\").get_attribute('src')\n",
    "        urllib.request.urlretrieve(imgUrl, \"images/\" + search + \"_\" + str(count) + \".jpg\")\n",
    "        print(\"Image saved: construction object_{}.jpg\".format(count))\n",
    "        count += 1 \n",
    "        if count > 300:\n",
    "                break     \n",
    "    except:\n",
    "        pass\n",
    "\n",
    "driver.close()"
   ]
  }
 ],
 "metadata": {
  "kernelspec": {
   "display_name": "Python 3 (ipykernel)",
   "language": "python",
   "name": "python3"
  },
  "language_info": {
   "codemirror_mode": {
    "name": "ipython",
    "version": 3
   },
   "file_extension": ".py",
   "mimetype": "text/x-python",
   "name": "python",
   "nbconvert_exporter": "python",
   "pygments_lexer": "ipython3",
   "version": "3.11.5"
  }
 },
 "nbformat": 4,
 "nbformat_minor": 5
}
